{
  "nbformat": 4,
  "nbformat_minor": 0,
  "metadata": {
    "colab": {
      "provenance": []
    },
    "kernelspec": {
      "name": "python3",
      "display_name": "Python 3"
    },
    "language_info": {
      "name": "python"
    }
  },
  "cells": [
    {
      "cell_type": "code",
      "execution_count": null,
      "metadata": {
        "id": "K1X2TGd3wuWG"
      },
      "outputs": [],
      "source": []
    },
    {
      "cell_type": "markdown",
      "source": [
        "Name : Manjunath B H\n",
        "\n",
        "Date : 11-09-2024"
      ],
      "metadata": {
        "id": "LDVo0wIfJ4_S"
      }
    },
    {
      "cell_type": "markdown",
      "source": [
        "1.\n",
        "a) 'Variable' - Reserved memory location which stores values or data."
      ],
      "metadata": {
        "id": "EnIAhvX4xOHj"
      }
    },
    {
      "cell_type": "code",
      "source": [
        "#Example\n",
        "name = \"Manjunath Arya\"\n",
        "print(name)"
      ],
      "metadata": {
        "colab": {
          "base_uri": "https://localhost:8080/"
        },
        "id": "2GeULZ7nxs9k",
        "outputId": "d38a23ed-0700-4e66-dbe4-155e4d7a5143"
      },
      "execution_count": null,
      "outputs": [
        {
          "output_type": "stream",
          "name": "stdout",
          "text": [
            "Manjunath Arya\n"
          ]
        }
      ]
    },
    {
      "cell_type": "markdown",
      "source": [
        "b) Difference b/w variable and constant ==\n",
        "\n",
        "   ( variable - store data and can be change and modified.)\n",
        "   \n",
        "   ( constant - it will have constant values and cannot change throught the execution.)"
      ],
      "metadata": {
        "id": "b7zalfEkyFVf"
      }
    },
    {
      "cell_type": "markdown",
      "source": [
        "2. Working with different data Types"
      ],
      "metadata": {
        "id": "lhvSMUxdzLNW"
      }
    },
    {
      "cell_type": "code",
      "source": [
        "# Variables of the following types\n",
        "\n",
        "Age = 21 # Integer\n",
        "Height = 6.4 #Float\n",
        "Name = \"Manjunath Arya\" #String\n",
        "is_student = True #Boolean"
      ],
      "metadata": {
        "id": "pu2IjtikzaVK"
      },
      "execution_count": null,
      "outputs": []
    },
    {
      "cell_type": "code",
      "source": [
        "# A python script to display the type of each variable\n",
        "\n",
        "integer_var = 21\n",
        "float_var = 6.4\n",
        "string_var = \"Manjunath Arya\"\n",
        "bool_var = True\n",
        "\n",
        "# Display the type of each variable\n",
        "\n",
        "print(\"Type of integer_var:\", type(integer_var))\n",
        "print(\"Type of float_var:\", type(float_var))\n",
        "print(\"Type of string_var:\", type(string_var))\n",
        "print(\"Type of bool_var:\",type(bool_var))"
      ],
      "metadata": {
        "colab": {
          "base_uri": "https://localhost:8080/"
        },
        "id": "sy86ODLD0ef5",
        "outputId": "16ee5f65-9f29-4620-d4f5-6671aba8a703"
      },
      "execution_count": null,
      "outputs": [
        {
          "output_type": "stream",
          "name": "stdout",
          "text": [
            "Type of integer_var: <class 'int'>\n",
            "Type of float_var: <class 'float'>\n",
            "Type of string_var: <class 'str'>\n",
            "Type of bool_var: <class 'bool'>\n"
          ]
        }
      ]
    },
    {
      "cell_type": "markdown",
      "source": [
        "3. Arthimetic Operators"
      ],
      "metadata": {
        "id": "EByZqkPK13Yl"
      }
    },
    {
      "cell_type": "code",
      "source": [
        "# Arthimetic Operations\n",
        "\n",
        "Num1 = 10\n",
        "Num2 = 5\n",
        "\n",
        "# Addition\n",
        "Addition = Num1 + Num2\n",
        "print(\"Addition:\", Addition)\n",
        "\n",
        "# Subtraction\n",
        "Subtraction = Num1 - Num2\n",
        "print(\"Subtraction:\", Subtraction)\n",
        "\n",
        "# Multiplication\n",
        "Multiplication = Num1 * Num2\n",
        "print(\"Multiplication:\", Multiplication)\n",
        "\n",
        "# Division\n",
        "Division = Num1 / Num2\n",
        "print(\"Division:\", Division)\n",
        "\n",
        "# Floor Division (Quotient)\n",
        "Floor_Division = Num1 // Num2\n",
        "print(\"Floor Division:\", Floor_Division)\n",
        "\n",
        "# Modulus (Remainder)\n",
        "Modulus = Num1 % Num2\n",
        "print(\"Modulus:\", Modulus)\n",
        "\n",
        "# Exponentiation\n",
        "Exponentiation = Num1 ** Num2\n",
        "print(\"Exponentiation:\", Exponentiation)\n"
      ],
      "metadata": {
        "colab": {
          "base_uri": "https://localhost:8080/"
        },
        "id": "wPt9-FC_18Ou",
        "outputId": "aacef7eb-8a2e-4ca8-cd99-4865c2b1a05a"
      },
      "execution_count": null,
      "outputs": [
        {
          "output_type": "stream",
          "name": "stdout",
          "text": [
            "Addition: 15\n",
            "Subtraction: 5\n",
            "Multiplication: 50\n",
            "Division: 2.0\n",
            "Floor Division: 2\n",
            "Modulus: 0\n",
            "Exponentiation: 100000\n"
          ]
        }
      ]
    },
    {
      "cell_type": "code",
      "source": [
        "# Area of rectangle\n",
        "\n",
        "length = 5\n",
        "width = 10\n",
        "area = length * width\n",
        "print(\"Area of rectangle:\", area)"
      ],
      "metadata": {
        "colab": {
          "base_uri": "https://localhost:8080/"
        },
        "id": "piURE-tD2VBH",
        "outputId": "4a412371-685c-448e-d2de-541f6808c688"
      },
      "execution_count": null,
      "outputs": [
        {
          "output_type": "stream",
          "name": "stdout",
          "text": [
            "Area of rectangle: 50\n"
          ]
        }
      ]
    },
    {
      "cell_type": "markdown",
      "source": [
        "4. Comparison and Logical Operators"
      ],
      "metadata": {
        "id": "wqiLJp5F3PFg"
      }
    },
    {
      "cell_type": "code",
      "source": [
        "# Comparison operators\n",
        "\n",
        "a = 5\n",
        "b = 10\n",
        "\n",
        "# Equal (==)\n",
        "result = a == b\n",
        "print(\"Equal:\", result)\n",
        "\n",
        "# Not Equal (!=)\n",
        "result = a != b\n",
        "print(\"Not Equal:\", result)\n",
        "\n",
        "# Greater than (>)\n",
        "result = a > b\n",
        "print(\"Greater than:\", result)\n",
        "\n",
        "# Less than (<)\n",
        "result = a < b\n",
        "print(\"Less than:\", result)\n",
        "\n",
        "# Greater than or equal (>=)\n",
        "result = a >= b\n",
        "print(\"Greater than or equal:\", result)\n",
        "\n",
        "# Less than or equal (<=)\n",
        "result = a <= b\n",
        "print(\"Less than or equal:\", result)"
      ],
      "metadata": {
        "colab": {
          "base_uri": "https://localhost:8080/"
        },
        "id": "rY4Ox6-H3VSH",
        "outputId": "f979582e-56b7-4679-f0f0-513cac7abb0c"
      },
      "execution_count": null,
      "outputs": [
        {
          "output_type": "stream",
          "name": "stdout",
          "text": [
            "Equal: False\n",
            "Not Equal: True\n",
            "Greater than: False\n",
            "Less than: True\n",
            "Greater than or equal: False\n",
            "Less than or equal: True\n"
          ]
        }
      ]
    },
    {
      "cell_type": "code",
      "source": [
        "# Logical Operations\n",
        "\n",
        "def check_positive_and_even(number):\n",
        "    return number > 0 and number % 2 == 0\n",
        "number = int(input(\"Enter a number: \"))\n",
        "if check_positive_and_even(number):\n",
        "    print(f\"The number {number} is positive and even.\")\n",
        "else:\n",
        "    print(f\"The number {number} is not positive or not even.\")"
      ],
      "metadata": {
        "colab": {
          "base_uri": "https://localhost:8080/"
        },
        "id": "Gainwvps5wVn",
        "outputId": "5c78e560-ef50-4129-e0e4-32b854bbac87"
      },
      "execution_count": null,
      "outputs": [
        {
          "output_type": "stream",
          "name": "stdout",
          "text": [
            "Enter a number: 3\n",
            "The number 3 is not positive or not even.\n"
          ]
        }
      ]
    },
    {
      "cell_type": "markdown",
      "source": [
        "5. Type Casting - Process of converting a value from one data to another"
      ],
      "metadata": {
        "id": "Vhqkpkkk7LDc"
      }
    },
    {
      "cell_type": "code",
      "source": [
        "# Implict and Explicit\n",
        "\n",
        "x = 10\n",
        "y = 3.5\n",
        "z = x + y #implict\n",
        "print(\"z=\",z)\n",
        "\n",
        "a = 2.5\n",
        "b = 1\n",
        "c = int(a) + b #explicit\n",
        "print(\"c=\",c)"
      ],
      "metadata": {
        "colab": {
          "base_uri": "https://localhost:8080/"
        },
        "id": "CDpxeBDe7P8X",
        "outputId": "7d035288-2192-4d50-a769-cc520980bd4a"
      },
      "execution_count": null,
      "outputs": [
        {
          "output_type": "stream",
          "name": "stdout",
          "text": [
            "z= 13.5\n",
            "c= 3\n"
          ]
        }
      ]
    },
    {
      "cell_type": "code",
      "source": [
        "# Python Script\n",
        "try:\n",
        "  integer_value = 20\n",
        "  float_value = 13.4\n",
        "  string_value = \"2.5\"\n",
        "\n",
        "# Convert float to integers\n",
        "  integer_value = int(float_value)\n",
        "  print(\"Integer_1:\", integer_value)\n",
        "\n",
        "# Convert integer to string\n",
        "  string_value = str(integer_value)\n",
        "  print(\"String_1:\", string_value)\n",
        "\n",
        "# Convert string to float\n",
        "  float_value = float(string_value)\n",
        "  print(\"Float_1:\", float_value)\n",
        "except TypeError:\n",
        "    print(\"Invalid input! Please enter valid numbers.\")"
      ],
      "metadata": {
        "colab": {
          "base_uri": "https://localhost:8080/"
        },
        "id": "0Ej97j0f8QNT",
        "outputId": "02797cbc-1b19-459c-faa0-3d3bbdaa5c52"
      },
      "execution_count": 4,
      "outputs": [
        {
          "output_type": "stream",
          "name": "stdout",
          "text": [
            "Integer_1: 13\n",
            "String_1: 13\n",
            "Float_1: 13.0\n"
          ]
        }
      ]
    },
    {
      "cell_type": "markdown",
      "source": [
        "6. Mini calculator"
      ],
      "metadata": {
        "id": "s6tohdmIAB3Q"
      }
    },
    {
      "cell_type": "code",
      "source": [
        "\n",
        "    try:\n",
        "        num1 = int(input(\"Enter the first number: \"))\n",
        "        num2 = int(input(\"Enter the second number: \"))\n",
        "\n",
        "        # Add the two numbers and print the result\n",
        "        sum_result = num1 + num2\n",
        "        print(\"Sum:\", sum_result)\n",
        "\n",
        "        # Subtract the second number from the first and print the result\n",
        "        difference_result = num1 - num2\n",
        "        print(\"Difference:\", difference_result)\n",
        "\n",
        "        # Multiply the two numbers and print the result\n",
        "        product_result = num1 * num2\n",
        "        print(\"Product:\", product_result)\n",
        "\n",
        "        # Divide the first number by the second and print the result\n",
        "        division_result = num1 / num2\n",
        "        print(\"Division:\", division_result)\n",
        "\n",
        "        # Convert the sum of the numbers to a string and print the type of the result\n",
        "        sum_as_string = str(sum_result)\n",
        "        print(\"Type of the sum as a string:\",type(sum_as_string))\n",
        "\n",
        "    except ValueError:\n",
        "        print(\"Invalid input! Please enter valid numbers.\")\n"
      ],
      "metadata": {
        "colab": {
          "base_uri": "https://localhost:8080/"
        },
        "id": "06OinseHALqP",
        "outputId": "0815f45c-4d21-47a7-c660-960f6ee48a3e"
      },
      "execution_count": null,
      "outputs": [
        {
          "output_type": "stream",
          "name": "stdout",
          "text": [
            "Enter the first number: 10\n",
            "Enter the second number: 20\n",
            "Sum: 30\n",
            "Difference: -10\n",
            "Product: 200\n",
            "Division: 0.5\n",
            "Type of the sum as a string: <class 'str'>\n"
          ]
        }
      ]
    },
    {
      "cell_type": "code",
      "source": [],
      "metadata": {
        "id": "GQ8roNktAZxE"
      },
      "execution_count": null,
      "outputs": []
    }
  ]
}